{
 "cells": [
  {
   "cell_type": "code",
   "execution_count": 1,
   "metadata": {},
   "outputs": [],
   "source": [
    "from uiautomator import Device\n",
    "import bs4\n",
    "from bs4 import BeautifulSoup\n",
    "import re\n",
    "import operator\n",
    "import sqlite3\n",
    "import hashlib\n",
    "import time"
   ]
  },
  {
   "cell_type": "code",
   "execution_count": 2,
   "metadata": {},
   "outputs": [],
   "source": [
    "d = Device()"
   ]
  },
  {
   "cell_type": "code",
   "execution_count": null,
   "metadata": {},
   "outputs": [],
   "source": []
  },
  {
   "cell_type": "code",
   "execution_count": 3,
   "metadata": {},
   "outputs": [],
   "source": [
    "def getPos(tag):\n",
    "    bounds = tag.get('bounds')\n",
    "    bounds = list(map(int, re.findall(r'\\d+', bounds)))\n",
    "    posX = (bounds[0] + bounds[2]) / 2\n",
    "    posY = (bounds[1] + bounds[3]) / 2\n",
    "    return posX, posY\n",
    "    "
   ]
  },
  {
   "cell_type": "code",
   "execution_count": null,
   "metadata": {},
   "outputs": [],
   "source": []
  },
  {
   "cell_type": "code",
   "execution_count": 4,
   "metadata": {},
   "outputs": [],
   "source": [
    "def findKeyTag(bs):\n",
    "    nodes = bs.findAll('node')\n",
    "    tagList = []\n",
    "    for node in nodes:\n",
    "        if isinstance(node, bs4.element.Tag) and node.get('text') != '':\n",
    "            \n",
    "            tagList.append([node, getPos(node)[1]])\n",
    "    tagList = sorted(tagList, key=operator.itemgetter(1))\n",
    "    title, confirm, ans, report, analysis = None, None, None, None, None\n",
    "    \n",
    "    for i in range(len(tagList)):\n",
    "        tagItem = tagList[i]\n",
    "        tag = tagItem[0]\n",
    "        tagText = getText(tag)\n",
    "        #print tagText\n",
    "        if u'选题' in tagText:\n",
    "            if not title:\n",
    "                title = i\n",
    "        elif u'正确答案' in tagText:\n",
    "            if not ans:\n",
    "                ans = i\n",
    "        elif u'下一题' in tagText or u'确  定' in tagText or u'提  交' in tagText:\n",
    "            if not confirm:\n",
    "                confirm = i\n",
    "        elif u'纠错' in tagText:\n",
    "            report = i\n",
    "            break\n",
    "        elif u'答案解析' in tagText:\n",
    "            if not analysis:\n",
    "                analysis = i + 1\n",
    "    optionList = []\n",
    "    for i in range(title + 1, ans if ans is not None else confirm):\n",
    "        g = re.match(r'\\d+\\.$', getText(tagList[i][0]))\n",
    "        if g is not None:\n",
    "            continue\n",
    "        optionList.append(tagList[i][0])\n",
    "    return tagList[title][0], optionList, None if ans is None else tagList[ans][0], tagList[confirm][0], None if analysis is None else tagList[analysis][0]\n",
    "        \n",
    "def getText(tag):\n",
    "    return tag.get('text').replace('\"', '#')\n",
    "\n",
    "def getY(tag):\n",
    "    g = re.findall('\\d+', tag.get('bounds'))\n",
    "    g = map(int, g)\n",
    "    return (g[1] + g[3]) / 2"
   ]
  },
  {
   "cell_type": "code",
   "execution_count": 5,
   "metadata": {
    "scrolled": true
   },
   "outputs": [],
   "source": [
    "def genHash(title, options):\n",
    "    textList = []\n",
    "    textList.append(getText(title))\n",
    "    for option in options:\n",
    "        textList.append(getText(option))\n",
    "    text = \",\".join(textList).encode('raw_unicode_escape')\n",
    "    textHash = hashlib.md5(text).hexdigest()\n",
    "    return textHash\n",
    "def parseAns(options, ans):\n",
    "    g = re.findall('[A-Z]', getText(ans))\n",
    "    right = g[0]\n",
    "    index = ord(right) - ord('A')\n",
    "    return getText(options[index])\n",
    "    \n",
    "    \n",
    "    "
   ]
  },
  {
   "cell_type": "code",
   "execution_count": 6,
   "metadata": {},
   "outputs": [],
   "source": [
    "def dumpPage(d):\n",
    "    src = d.dump('a.xml')\n",
    "    return BeautifulSoup(src)"
   ]
  },
  {
   "cell_type": "code",
   "execution_count": 7,
   "metadata": {},
   "outputs": [],
   "source": [
    "def click(tag, d):\n",
    "    bounds = tag.get('bounds')\n",
    "    bounds = list(map(int, re.findall(r'\\d+', bounds)))\n",
    "    posX = (bounds[0] + bounds[2]) / 2\n",
    "    posY = (bounds[1] + bounds[3]) / 2\n",
    "    d.click(posX, posY)\n",
    "\n",
    "def checkExit(d):\n",
    "    bs = dumpPage(d)\n",
    "    confirm = None\n",
    "    isExit = False\n",
    "    for node in bs.findAll('node'):\n",
    "        if u'确 定' in getText(node):\n",
    "            confirm = node\n",
    "            isExit = True\n",
    "            break\n",
    "    if isExit:\n",
    "        click(confirm, d)\n",
    "    return isExit\n",
    "\n",
    "def clickEntry(d, name):\n",
    "    bs = dumpPage(d)\n",
    "    entry = None\n",
    "    for node in bs.findAll('node'):\n",
    "        if name in getText(node) or name in node.get('content-desc'):\n",
    "            entry = node\n",
    "            break\n",
    "    click(entry, d)\n",
    "    \n",
    "def waitForEntry(d, name):\n",
    "    entry = None\n",
    "    while entry is None:\n",
    "        bs = dumpPage(d)\n",
    "        for node in bs.findAll('node'):\n",
    "            if name in getText(node) or name in node.get('content-desc'):\n",
    "                entry = node\n",
    "                break\n",
    "        if entry is None:\n",
    "            time.sleep(2)\n",
    "    \n",
    "    "
   ]
  },
  {
   "cell_type": "code",
   "execution_count": 8,
   "metadata": {},
   "outputs": [],
   "source": [
    "def crawler(d):\n",
    "    bs = dumpPage(d)\n",
    "    title, options, _, confirm, _ = findKeyTag(bs)\n",
    "    queryHash = genHash(title, options)\n",
    "    queryCmd = 'select * from n4n5 where hash=\"%s\"' % queryHash\n",
    "    localCursor = cursor.execute(queryCmd)\n",
    "    res = localCursor.fetchone()\n",
    "    if res is None:\n",
    "        time.sleep(1)\n",
    "        click(options[0], d)\n",
    "        time.sleep(1)\n",
    "        click(confirm, d)\n",
    "    else:\n",
    "        rightText = res[-2]\n",
    "        for option in options:\n",
    "            if rightText == getText(option):\n",
    "                click(option, d)\n",
    "                break\n",
    "        time.sleep(1)\n",
    "        click(confirm, d)\n",
    "\n",
    "    if checkExit(d):\n",
    "        return\n",
    "    bs = dumpPage(d)\n",
    "    title, options, ans, confirm, analysis = findKeyTag(bs)\n",
    "    titleText = getText(title)\n",
    "    ansText = parseAns(options, ans)\n",
    "    optionText = \"|\".join([getText(option) for option in options])\n",
    "    analysisText = u'这SB没解析' if analysis is None else getText(analysis)\n",
    "    insertCmd = 'insert or ignore into n4n5(hash, title, options, ans, analysis) values(\"%s\", \"%s\", \"%s\", \"%s\", \"%s\")' % (queryHash, titleText, optionText, ansText, analysisText)\n",
    "    cursor.execute(insertCmd)\n",
    "\n",
    "    db.commit()\n",
    "    click(confirm, d)"
   ]
  },
  {
   "cell_type": "code",
   "execution_count": 9,
   "metadata": {},
   "outputs": [
    {
     "data": {
      "text/plain": [
       "<sqlite3.Cursor at 0x2159e160f10>"
      ]
     },
     "execution_count": 9,
     "metadata": {},
     "output_type": "execute_result"
    }
   ],
   "source": [
    "db = sqlite3.connect('nurse-asistant.db')\n",
    "cursor = db.cursor()\n",
    "cursor.execute('create table if not exists n4n5(hash varchar[255] primary key, title varchar[255], options varchar[255], ans varchar[255], analysis text)')"
   ]
  },
  {
   "cell_type": "code",
   "execution_count": 13,
   "metadata": {},
   "outputs": [
    {
     "ename": "TypeError",
     "evalue": "unsupported operand type(s) for +: 'NoneType' and 'int'",
     "output_type": "error",
     "traceback": [
      "\u001b[1;31m---------------------------------------------------------------------------\u001b[0m",
      "\u001b[1;31mTypeError\u001b[0m                                 Traceback (most recent call last)",
      "\u001b[1;32m<ipython-input-13-15838066eab5>\u001b[0m in \u001b[0;36m<module>\u001b[1;34m\u001b[0m\n\u001b[0;32m      8\u001b[0m             \u001b[0mwaitForEntry\u001b[0m\u001b[1;33m(\u001b[0m\u001b[0md\u001b[0m\u001b[1;33m,\u001b[0m \u001b[1;34mu'单选题'\u001b[0m\u001b[1;33m)\u001b[0m\u001b[1;33m\u001b[0m\u001b[1;33m\u001b[0m\u001b[0m\n\u001b[0;32m      9\u001b[0m             \u001b[0mtime\u001b[0m\u001b[1;33m.\u001b[0m\u001b[0msleep\u001b[0m\u001b[1;33m(\u001b[0m\u001b[1;36m2\u001b[0m\u001b[1;33m)\u001b[0m\u001b[1;33m\u001b[0m\u001b[1;33m\u001b[0m\u001b[0m\n\u001b[1;32m---> 10\u001b[1;33m     \u001b[0mcrawler\u001b[0m\u001b[1;33m(\u001b[0m\u001b[0md\u001b[0m\u001b[1;33m)\u001b[0m\u001b[1;33m\u001b[0m\u001b[1;33m\u001b[0m\u001b[0m\n\u001b[0m",
      "\u001b[1;32m<ipython-input-8-5b3d49bdddb1>\u001b[0m in \u001b[0;36mcrawler\u001b[1;34m(d)\u001b[0m\n\u001b[0;32m      1\u001b[0m \u001b[1;32mdef\u001b[0m \u001b[0mcrawler\u001b[0m\u001b[1;33m(\u001b[0m\u001b[0md\u001b[0m\u001b[1;33m)\u001b[0m\u001b[1;33m:\u001b[0m\u001b[1;33m\u001b[0m\u001b[1;33m\u001b[0m\u001b[0m\n\u001b[0;32m      2\u001b[0m     \u001b[0mbs\u001b[0m \u001b[1;33m=\u001b[0m \u001b[0mdumpPage\u001b[0m\u001b[1;33m(\u001b[0m\u001b[0md\u001b[0m\u001b[1;33m)\u001b[0m\u001b[1;33m\u001b[0m\u001b[1;33m\u001b[0m\u001b[0m\n\u001b[1;32m----> 3\u001b[1;33m     \u001b[0mtitle\u001b[0m\u001b[1;33m,\u001b[0m \u001b[0moptions\u001b[0m\u001b[1;33m,\u001b[0m \u001b[0m_\u001b[0m\u001b[1;33m,\u001b[0m \u001b[0mconfirm\u001b[0m\u001b[1;33m,\u001b[0m \u001b[0m_\u001b[0m \u001b[1;33m=\u001b[0m \u001b[0mfindKeyTag\u001b[0m\u001b[1;33m(\u001b[0m\u001b[0mbs\u001b[0m\u001b[1;33m)\u001b[0m\u001b[1;33m\u001b[0m\u001b[1;33m\u001b[0m\u001b[0m\n\u001b[0m\u001b[0;32m      4\u001b[0m     \u001b[0mqueryHash\u001b[0m \u001b[1;33m=\u001b[0m \u001b[0mgenHash\u001b[0m\u001b[1;33m(\u001b[0m\u001b[0mtitle\u001b[0m\u001b[1;33m,\u001b[0m \u001b[0moptions\u001b[0m\u001b[1;33m)\u001b[0m\u001b[1;33m\u001b[0m\u001b[1;33m\u001b[0m\u001b[0m\n\u001b[0;32m      5\u001b[0m     \u001b[0mqueryCmd\u001b[0m \u001b[1;33m=\u001b[0m \u001b[1;34m'select * from n4n5 where hash=\"%s\"'\u001b[0m \u001b[1;33m%\u001b[0m \u001b[0mqueryHash\u001b[0m\u001b[1;33m\u001b[0m\u001b[1;33m\u001b[0m\u001b[0m\n",
      "\u001b[1;32m<ipython-input-4-245c20b791bd>\u001b[0m in \u001b[0;36mfindKeyTag\u001b[1;34m(bs)\u001b[0m\n\u001b[0;32m     30\u001b[0m                 \u001b[0manalysis\u001b[0m \u001b[1;33m=\u001b[0m \u001b[0mi\u001b[0m \u001b[1;33m+\u001b[0m \u001b[1;36m1\u001b[0m\u001b[1;33m\u001b[0m\u001b[1;33m\u001b[0m\u001b[0m\n\u001b[0;32m     31\u001b[0m     \u001b[0moptionList\u001b[0m \u001b[1;33m=\u001b[0m \u001b[1;33m[\u001b[0m\u001b[1;33m]\u001b[0m\u001b[1;33m\u001b[0m\u001b[1;33m\u001b[0m\u001b[0m\n\u001b[1;32m---> 32\u001b[1;33m     \u001b[1;32mfor\u001b[0m \u001b[0mi\u001b[0m \u001b[1;32min\u001b[0m \u001b[0mrange\u001b[0m\u001b[1;33m(\u001b[0m\u001b[0mtitle\u001b[0m \u001b[1;33m+\u001b[0m \u001b[1;36m1\u001b[0m\u001b[1;33m,\u001b[0m \u001b[0mans\u001b[0m \u001b[1;32mif\u001b[0m \u001b[0mans\u001b[0m \u001b[1;32mis\u001b[0m \u001b[1;32mnot\u001b[0m \u001b[1;32mNone\u001b[0m \u001b[1;32melse\u001b[0m \u001b[0mconfirm\u001b[0m\u001b[1;33m)\u001b[0m\u001b[1;33m:\u001b[0m\u001b[1;33m\u001b[0m\u001b[1;33m\u001b[0m\u001b[0m\n\u001b[0m\u001b[0;32m     33\u001b[0m         \u001b[0mg\u001b[0m \u001b[1;33m=\u001b[0m \u001b[0mre\u001b[0m\u001b[1;33m.\u001b[0m\u001b[0mmatch\u001b[0m\u001b[1;33m(\u001b[0m\u001b[1;34mr'\\d+\\.$'\u001b[0m\u001b[1;33m,\u001b[0m \u001b[0mgetText\u001b[0m\u001b[1;33m(\u001b[0m\u001b[0mtagList\u001b[0m\u001b[1;33m[\u001b[0m\u001b[0mi\u001b[0m\u001b[1;33m]\u001b[0m\u001b[1;33m[\u001b[0m\u001b[1;36m0\u001b[0m\u001b[1;33m]\u001b[0m\u001b[1;33m)\u001b[0m\u001b[1;33m)\u001b[0m\u001b[1;33m\u001b[0m\u001b[1;33m\u001b[0m\u001b[0m\n\u001b[0;32m     34\u001b[0m         \u001b[1;32mif\u001b[0m \u001b[0mg\u001b[0m \u001b[1;32mis\u001b[0m \u001b[1;32mnot\u001b[0m \u001b[1;32mNone\u001b[0m\u001b[1;33m:\u001b[0m\u001b[1;33m\u001b[0m\u001b[1;33m\u001b[0m\u001b[0m\n",
      "\u001b[1;31mTypeError\u001b[0m: unsupported operand type(s) for +: 'NoneType' and 'int'"
     ]
    }
   ],
   "source": [
    "while True:\n",
    "    res = checkExit(d)\n",
    "    if res:\n",
    "        waitForEntry(d, u'开始练习')\n",
    "        #d.click(424, 2348)\n",
    "        clickEntry(d, u'开始练习')\n",
    "        for i in range(2):\n",
    "            waitForEntry(d, u'单选题')\n",
    "            time.sleep(2)\n",
    "    crawler(d)"
   ]
  },
  {
   "cell_type": "code",
   "execution_count": 11,
   "metadata": {},
   "outputs": [],
   "source": [
    " clickEntry(d, u'开始练习')"
   ]
  },
  {
   "cell_type": "code",
   "execution_count": null,
   "metadata": {},
   "outputs": [],
   "source": []
  },
  {
   "cell_type": "code",
   "execution_count": 26,
   "metadata": {},
   "outputs": [
    {
     "ename": "TypeError",
     "evalue": "'map' object is not subscriptable",
     "output_type": "error",
     "traceback": [
      "\u001b[1;31m---------------------------------------------------------------------------\u001b[0m",
      "\u001b[1;31mTypeError\u001b[0m                                 Traceback (most recent call last)",
      "\u001b[1;32m<ipython-input-26-6dd98c83a603>\u001b[0m in \u001b[0;36m<module>\u001b[1;34m\u001b[0m\n\u001b[1;32m----> 1\u001b[1;33m \u001b[0mcrawler\u001b[0m\u001b[1;33m(\u001b[0m\u001b[0md\u001b[0m\u001b[1;33m)\u001b[0m\u001b[1;33m\u001b[0m\u001b[1;33m\u001b[0m\u001b[0m\n\u001b[0m\u001b[0;32m      2\u001b[0m \u001b[1;33m\u001b[0m\u001b[0m\n",
      "\u001b[1;32m<ipython-input-22-860dccb83051>\u001b[0m in \u001b[0;36mcrawler\u001b[1;34m(d)\u001b[0m\n\u001b[0;32m      1\u001b[0m \u001b[1;32mdef\u001b[0m \u001b[0mcrawler\u001b[0m\u001b[1;33m(\u001b[0m\u001b[0md\u001b[0m\u001b[1;33m)\u001b[0m\u001b[1;33m:\u001b[0m\u001b[1;33m\u001b[0m\u001b[1;33m\u001b[0m\u001b[0m\n\u001b[0;32m      2\u001b[0m     \u001b[0mbs\u001b[0m \u001b[1;33m=\u001b[0m \u001b[0mdumpPage\u001b[0m\u001b[1;33m(\u001b[0m\u001b[0md\u001b[0m\u001b[1;33m)\u001b[0m\u001b[1;33m\u001b[0m\u001b[1;33m\u001b[0m\u001b[0m\n\u001b[1;32m----> 3\u001b[1;33m     \u001b[0mtitle\u001b[0m\u001b[1;33m,\u001b[0m \u001b[0moptions\u001b[0m\u001b[1;33m,\u001b[0m \u001b[0m_\u001b[0m\u001b[1;33m,\u001b[0m \u001b[0mconfirm\u001b[0m\u001b[1;33m,\u001b[0m \u001b[0m_\u001b[0m \u001b[1;33m=\u001b[0m \u001b[0mfindKeyTag\u001b[0m\u001b[1;33m(\u001b[0m\u001b[0mbs\u001b[0m\u001b[1;33m)\u001b[0m\u001b[1;33m\u001b[0m\u001b[1;33m\u001b[0m\u001b[0m\n\u001b[0m\u001b[0;32m      4\u001b[0m     \u001b[0mqueryHash\u001b[0m \u001b[1;33m=\u001b[0m \u001b[0mgenHash\u001b[0m\u001b[1;33m(\u001b[0m\u001b[0mtitle\u001b[0m\u001b[1;33m,\u001b[0m \u001b[0moptions\u001b[0m\u001b[1;33m)\u001b[0m\u001b[1;33m\u001b[0m\u001b[1;33m\u001b[0m\u001b[0m\n\u001b[0;32m      5\u001b[0m     \u001b[0mqueryCmd\u001b[0m \u001b[1;33m=\u001b[0m \u001b[1;34m'select * from n4n5 where hash=\"%s\"'\u001b[0m \u001b[1;33m%\u001b[0m \u001b[0mqueryHash\u001b[0m\u001b[1;33m\u001b[0m\u001b[1;33m\u001b[0m\u001b[0m\n",
      "\u001b[1;32m<ipython-input-18-719b47c2438a>\u001b[0m in \u001b[0;36mfindKeyTag\u001b[1;34m(bs)\u001b[0m\n\u001b[0;32m      4\u001b[0m     \u001b[1;32mfor\u001b[0m \u001b[0mnode\u001b[0m \u001b[1;32min\u001b[0m \u001b[0mnodes\u001b[0m\u001b[1;33m:\u001b[0m\u001b[1;33m\u001b[0m\u001b[1;33m\u001b[0m\u001b[0m\n\u001b[0;32m      5\u001b[0m         \u001b[1;32mif\u001b[0m \u001b[0misinstance\u001b[0m\u001b[1;33m(\u001b[0m\u001b[0mnode\u001b[0m\u001b[1;33m,\u001b[0m \u001b[0mbs4\u001b[0m\u001b[1;33m.\u001b[0m\u001b[0melement\u001b[0m\u001b[1;33m.\u001b[0m\u001b[0mTag\u001b[0m\u001b[1;33m)\u001b[0m \u001b[1;32mand\u001b[0m \u001b[0mnode\u001b[0m\u001b[1;33m.\u001b[0m\u001b[0mget\u001b[0m\u001b[1;33m(\u001b[0m\u001b[1;34m'text'\u001b[0m\u001b[1;33m)\u001b[0m \u001b[1;33m!=\u001b[0m \u001b[1;34m''\u001b[0m\u001b[1;33m:\u001b[0m\u001b[1;33m\u001b[0m\u001b[1;33m\u001b[0m\u001b[0m\n\u001b[1;32m----> 6\u001b[1;33m             \u001b[0mtagList\u001b[0m\u001b[1;33m.\u001b[0m\u001b[0mappend\u001b[0m\u001b[1;33m(\u001b[0m\u001b[1;33m[\u001b[0m\u001b[0mnode\u001b[0m\u001b[1;33m,\u001b[0m \u001b[0mgetPos\u001b[0m\u001b[1;33m(\u001b[0m\u001b[0mnode\u001b[0m\u001b[1;33m)\u001b[0m\u001b[1;33m[\u001b[0m\u001b[1;36m1\u001b[0m\u001b[1;33m]\u001b[0m\u001b[1;33m]\u001b[0m\u001b[1;33m)\u001b[0m\u001b[1;33m\u001b[0m\u001b[1;33m\u001b[0m\u001b[0m\n\u001b[0m\u001b[0;32m      7\u001b[0m     \u001b[0mtagList\u001b[0m \u001b[1;33m=\u001b[0m \u001b[0msorted\u001b[0m\u001b[1;33m(\u001b[0m\u001b[0mtagList\u001b[0m\u001b[1;33m,\u001b[0m \u001b[0mkey\u001b[0m\u001b[1;33m=\u001b[0m\u001b[0moperator\u001b[0m\u001b[1;33m.\u001b[0m\u001b[0mitemgetter\u001b[0m\u001b[1;33m(\u001b[0m\u001b[1;36m1\u001b[0m\u001b[1;33m)\u001b[0m\u001b[1;33m)\u001b[0m\u001b[1;33m\u001b[0m\u001b[1;33m\u001b[0m\u001b[0m\n\u001b[0;32m      8\u001b[0m     \u001b[0mtitle\u001b[0m\u001b[1;33m,\u001b[0m \u001b[0mconfirm\u001b[0m\u001b[1;33m,\u001b[0m \u001b[0mans\u001b[0m\u001b[1;33m,\u001b[0m \u001b[0mreport\u001b[0m\u001b[1;33m,\u001b[0m \u001b[0manalysis\u001b[0m \u001b[1;33m=\u001b[0m \u001b[1;32mNone\u001b[0m\u001b[1;33m,\u001b[0m \u001b[1;32mNone\u001b[0m\u001b[1;33m,\u001b[0m \u001b[1;32mNone\u001b[0m\u001b[1;33m,\u001b[0m \u001b[1;32mNone\u001b[0m\u001b[1;33m,\u001b[0m \u001b[1;32mNone\u001b[0m\u001b[1;33m\u001b[0m\u001b[1;33m\u001b[0m\u001b[0m\n",
      "\u001b[1;32m<ipython-input-5-8bda328c4840>\u001b[0m in \u001b[0;36mgetPos\u001b[1;34m(tag)\u001b[0m\n\u001b[0;32m      2\u001b[0m     \u001b[0mbounds\u001b[0m \u001b[1;33m=\u001b[0m \u001b[0mtag\u001b[0m\u001b[1;33m.\u001b[0m\u001b[0mget\u001b[0m\u001b[1;33m(\u001b[0m\u001b[1;34m'bounds'\u001b[0m\u001b[1;33m)\u001b[0m\u001b[1;33m\u001b[0m\u001b[1;33m\u001b[0m\u001b[0m\n\u001b[0;32m      3\u001b[0m     \u001b[0mbounds\u001b[0m \u001b[1;33m=\u001b[0m \u001b[0mmap\u001b[0m\u001b[1;33m(\u001b[0m\u001b[0mint\u001b[0m\u001b[1;33m,\u001b[0m \u001b[0mre\u001b[0m\u001b[1;33m.\u001b[0m\u001b[0mfindall\u001b[0m\u001b[1;33m(\u001b[0m\u001b[1;34mr'\\d+'\u001b[0m\u001b[1;33m,\u001b[0m \u001b[0mbounds\u001b[0m\u001b[1;33m)\u001b[0m\u001b[1;33m)\u001b[0m\u001b[1;33m\u001b[0m\u001b[1;33m\u001b[0m\u001b[0m\n\u001b[1;32m----> 4\u001b[1;33m     \u001b[0mposX\u001b[0m \u001b[1;33m=\u001b[0m \u001b[1;33m(\u001b[0m\u001b[0mbounds\u001b[0m\u001b[1;33m[\u001b[0m\u001b[1;36m0\u001b[0m\u001b[1;33m]\u001b[0m \u001b[1;33m+\u001b[0m \u001b[0mbounds\u001b[0m\u001b[1;33m[\u001b[0m\u001b[1;36m2\u001b[0m\u001b[1;33m]\u001b[0m\u001b[1;33m)\u001b[0m \u001b[1;33m/\u001b[0m \u001b[1;36m2\u001b[0m\u001b[1;33m\u001b[0m\u001b[1;33m\u001b[0m\u001b[0m\n\u001b[0m\u001b[0;32m      5\u001b[0m     \u001b[0mposY\u001b[0m \u001b[1;33m=\u001b[0m \u001b[1;33m(\u001b[0m\u001b[0mbounds\u001b[0m\u001b[1;33m[\u001b[0m\u001b[1;36m1\u001b[0m\u001b[1;33m]\u001b[0m \u001b[1;33m+\u001b[0m \u001b[0mbounds\u001b[0m\u001b[1;33m[\u001b[0m\u001b[1;36m3\u001b[0m\u001b[1;33m]\u001b[0m\u001b[1;33m)\u001b[0m \u001b[1;33m/\u001b[0m \u001b[1;36m2\u001b[0m\u001b[1;33m\u001b[0m\u001b[1;33m\u001b[0m\u001b[0m\n\u001b[0;32m      6\u001b[0m     \u001b[1;32mreturn\u001b[0m \u001b[0mposX\u001b[0m\u001b[1;33m,\u001b[0m \u001b[0mposY\u001b[0m\u001b[1;33m\u001b[0m\u001b[1;33m\u001b[0m\u001b[0m\n",
      "\u001b[1;31mTypeError\u001b[0m: 'map' object is not subscriptable"
     ]
    }
   ],
   "source": [
    "\n"
   ]
  },
  {
   "cell_type": "code",
   "execution_count": 16,
   "metadata": {},
   "outputs": [
    {
     "data": {
      "text/plain": [
       "<?xml version='1.0' encoding='UTF-8' standalone='yes' ?><html><body><hierarchy rotation=\"0\">\n",
       "<node bounds=\"[0,0][1080,89]\" checkable=\"false\" checked=\"false\" class=\"android.widget.FrameLayout\" clickable=\"false\" content-desc=\"\" enabled=\"true\" focusable=\"false\" focused=\"false\" index=\"0\" long-clickable=\"false\" package=\"com.android.systemui\" password=\"false\" resource-id=\"\" scrollable=\"false\" selected=\"false\" text=\"\">\n",
       "<node bounds=\"[0,0][1080,89]\" checkable=\"false\" checked=\"false\" class=\"android.widget.FrameLayout\" clickable=\"false\" content-desc=\"\" enabled=\"true\" focusable=\"false\" focused=\"false\" index=\"0\" long-clickable=\"false\" package=\"com.android.systemui\" password=\"false\" resource-id=\"com.android.systemui:id/status_bar_container\" scrollable=\"false\" selected=\"false\" text=\"\">\n",
       "<node bounds=\"[54,9][203,89]\" checkable=\"false\" checked=\"false\" class=\"android.widget.TextView\" clickable=\"false\" content-desc=\"\" enabled=\"true\" focusable=\"false\" focused=\"false\" index=\"0\" long-clickable=\"false\" package=\"com.android.systemui\" password=\"false\" resource-id=\"com.android.systemui:id/clock\" scrollable=\"false\" selected=\"false\" text=\"晚上9:31\"></node>\n",
       "<node bounds=\"[851,20][1049,80]\" checkable=\"false\" checked=\"false\" class=\"android.widget.LinearLayout\" clickable=\"false\" content-desc=\"\" enabled=\"true\" focusable=\"true\" focused=\"false\" index=\"1\" long-clickable=\"false\" package=\"com.android.systemui\" password=\"false\" resource-id=\"com.android.systemui:id/system_icons\" scrollable=\"false\" selected=\"false\" text=\"\">\n",
       "<node bounds=\"[851,20][965,80]\" checkable=\"false\" checked=\"false\" class=\"android.widget.LinearLayout\" clickable=\"false\" content-desc=\"\" enabled=\"true\" focusable=\"true\" focused=\"false\" index=\"0\" long-clickable=\"false\" package=\"com.android.systemui\" password=\"false\" resource-id=\"com.android.systemui:id/signal_cluster\" scrollable=\"false\" selected=\"false\" text=\"\">\n",
       "<node bounds=\"[851,20][907,80]\" checkable=\"false\" checked=\"false\" class=\"android.widget.LinearLayout\" clickable=\"false\" content-desc=\"3G 手机信号满格。 4G 手机信号满格。\" enabled=\"true\" focusable=\"true\" focused=\"false\" index=\"0\" long-clickable=\"false\" package=\"com.android.systemui\" password=\"false\" resource-id=\"com.android.systemui:id/mobile_signal_group_dual_notch\" scrollable=\"false\" selected=\"false\" text=\"\"></node>\n",
       "<node bounds=\"[907,22][965,78]\" checkable=\"false\" checked=\"false\" class=\"android.widget.FrameLayout\" clickable=\"false\" content-desc=\"WLAN 信号满格。\" enabled=\"true\" focusable=\"true\" focused=\"false\" index=\"3\" long-clickable=\"false\" package=\"com.android.systemui\" password=\"false\" resource-id=\"com.android.systemui:id/wifi_combo\" scrollable=\"false\" selected=\"false\" text=\"\"></node>\n",
       "</node>\n",
       "<node bounds=\"[965,20][1049,80]\" checkable=\"false\" checked=\"false\" class=\"android.widget.LinearLayout\" clickable=\"false\" content-desc=\"\" enabled=\"true\" focusable=\"true\" focused=\"false\" index=\"1\" long-clickable=\"false\" package=\"com.android.systemui\" password=\"false\" resource-id=\"com.android.systemui:id/battery\" scrollable=\"false\" selected=\"false\" text=\"\">\n",
       "<node bounds=\"[965,22][1049,78]\" checkable=\"false\" checked=\"false\" class=\"android.widget.ImageView\" clickable=\"false\" content-desc=\"正在充电，已完成百分之68。\" enabled=\"true\" focusable=\"false\" focused=\"false\" index=\"0\" long-clickable=\"false\" package=\"com.android.systemui\" password=\"false\" resource-id=\"com.android.systemui:id/battery_image\" scrollable=\"false\" selected=\"false\" text=\"\"></node>\n",
       "<node bounds=\"[994,22][1020,78]\" checkable=\"false\" checked=\"false\" class=\"android.widget.TextView\" clickable=\"false\" content-desc=\"\" enabled=\"true\" focusable=\"false\" focused=\"false\" index=\"1\" long-clickable=\"false\" package=\"com.android.systemui\" password=\"false\" resource-id=\"com.android.systemui:id/battery_digit\" scrollable=\"false\" selected=\"false\" text=\"68\"></node>\n",
       "</node>\n",
       "</node>\n",
       "</node>\n",
       "</node>\n",
       "<node bounds=\"[408,2098][671,2248]\" checkable=\"false\" checked=\"false\" class=\"android.widget.FrameLayout\" clickable=\"true\" content-desc=\"\" enabled=\"true\" focusable=\"true\" focused=\"false\" index=\"0\" long-clickable=\"false\" package=\"com.android.systemui\" password=\"false\" resource-id=\"\" scrollable=\"false\" selected=\"false\" text=\"\">\n",
       "<node bounds=\"[408,2127][671,2218]\" checkable=\"false\" checked=\"false\" class=\"android.widget.TextView\" clickable=\"false\" content-desc=\"\" enabled=\"true\" focusable=\"false\" focused=\"false\" index=\"0\" long-clickable=\"false\" package=\"com.android.systemui\" password=\"false\" resource-id=\"com.android.systemui:id/aspect_button\" scrollable=\"false\" selected=\"false\" text=\"全面屏显示\"></node>\n",
       "</node>\n",
       "<node bounds=\"[0,0][1080,2029]\" checkable=\"false\" checked=\"false\" class=\"android.widget.FrameLayout\" clickable=\"false\" content-desc=\"\" enabled=\"true\" focusable=\"false\" focused=\"false\" index=\"0\" long-clickable=\"false\" package=\"com.ecloudinfo.hulizhushou\" password=\"false\" resource-id=\"\" scrollable=\"false\" selected=\"false\" text=\"\">\n",
       "<node bounds=\"[0,89][1080,2029]\" checkable=\"false\" checked=\"false\" class=\"android.webkit.WebView\" clickable=\"false\" content-desc=\"\" enabled=\"true\" focusable=\"false\" focused=\"false\" index=\"0\" long-clickable=\"false\" package=\"com.ecloudinfo.hulizhushou\" password=\"false\" resource-id=\"\" scrollable=\"false\" selected=\"false\" text=\"\">\n",
       "<node bounds=\"[0,89][1080,2029]\" checkable=\"false\" checked=\"false\" class=\"android.webkit.WebView\" clickable=\"false\" content-desc=\"\" enabled=\"true\" focusable=\"true\" focused=\"true\" index=\"0\" long-clickable=\"false\" package=\"com.ecloudinfo.hulizhushou\" password=\"false\" resource-id=\"\" scrollable=\"true\" selected=\"false\" text=\"护理助手 2019年年终全院护士理论练习题N4-N5\">\n",
       "<node bounds=\"[0,89][1080,210]\" checkable=\"false\" checked=\"false\" class=\"android.view.View\" clickable=\"false\" content-desc=\"\" enabled=\"true\" focusable=\"false\" focused=\"false\" index=\"0\" long-clickable=\"false\" package=\"com.ecloudinfo.hulizhushou\" password=\"false\" resource-id=\"\" scrollable=\"false\" selected=\"false\" text=\"\">\n",
       "<node bounds=\"[24,91][1056,226]\" checkable=\"false\" checked=\"false\" class=\"android.view.View\" clickable=\"false\" content-desc=\"\" enabled=\"true\" focusable=\"false\" focused=\"false\" index=\"0\" long-clickable=\"false\" package=\"com.ecloudinfo.hulizhushou\" password=\"false\" resource-id=\"\" scrollable=\"false\" selected=\"false\" text=\"\">\n",
       "<node bounds=\"[24,102][946,215]\" checkable=\"false\" checked=\"false\" class=\"android.view.View\" clickable=\"false\" content-desc=\"\" enabled=\"true\" focusable=\"false\" focused=\"false\" index=\"0\" long-clickable=\"false\" package=\"com.ecloudinfo.hulizhushou\" password=\"false\" resource-id=\"\" scrollable=\"true\" selected=\"false\" text=\"\">\n",
       "<node bounds=\"[24,124][167,193]\" checkable=\"false\" checked=\"false\" class=\"android.view.View\" clickable=\"true\" content-desc=\"\" enabled=\"true\" focusable=\"true\" focused=\"false\" index=\"0\" long-clickable=\"false\" package=\"com.ecloudinfo.hulizhushou\" password=\"false\" resource-id=\"\" scrollable=\"false\" selected=\"false\" text=\" 返回 \"></node>\n",
       "<node bounds=\"[165,113][181,196]\" checkable=\"false\" checked=\"false\" class=\"android.view.View\" clickable=\"false\" content-desc=\"\" enabled=\"true\" focusable=\"false\" focused=\"false\" index=\"1\" long-clickable=\"false\" package=\"com.ecloudinfo.hulizhushou\" password=\"false\" resource-id=\"\" scrollable=\"false\" selected=\"false\" text=\" \"></node>\n",
       "<node bounds=\"[176,113][929,196]\" checkable=\"false\" checked=\"false\" class=\"android.view.View\" clickable=\"false\" content-desc=\"\" enabled=\"true\" focusable=\"false\" focused=\"false\" index=\"2\" long-clickable=\"false\" package=\"com.ecloudinfo.hulizhushou\" password=\"false\" resource-id=\"\" scrollable=\"false\" selected=\"false\" text=\"2019年年终全院护士理论练习题N4-N5\"></node>\n",
       "</node>\n",
       "<node bounds=\"[940,102][1056,215]\" checkable=\"false\" checked=\"false\" class=\"android.view.View\" clickable=\"true\" content-desc=\"\" enabled=\"true\" focusable=\"true\" focused=\"false\" index=\"1\" long-clickable=\"false\" package=\"com.ecloudinfo.hulizhushou\" password=\"false\" resource-id=\"btn_nav_opt\" scrollable=\"false\" selected=\"false\" text=\"\"></node>\n",
       "</node>\n",
       "</node>\n",
       "<node bounds=\"[0,89][1080,2029]\" checkable=\"false\" checked=\"false\" class=\"android.view.View\" clickable=\"false\" content-desc=\"\" enabled=\"true\" focusable=\"false\" focused=\"false\" index=\"1\" long-clickable=\"false\" package=\"com.ecloudinfo.hulizhushou\" password=\"false\" resource-id=\"\" scrollable=\"true\" selected=\"false\" text=\"\">\n",
       "<node bounds=\"[79,344][1001,573]\" checkable=\"false\" checked=\"false\" class=\"android.widget.GridView\" clickable=\"false\" content-desc=\"\" enabled=\"true\" focusable=\"false\" focused=\"false\" index=\"0\" long-clickable=\"false\" package=\"com.ecloudinfo.hulizhushou\" password=\"false\" resource-id=\"\" scrollable=\"false\" selected=\"false\" text=\"\">\n",
       "<node bounds=\"[82,347][998,460]\" checkable=\"false\" checked=\"false\" class=\"android.view.View\" clickable=\"false\" content-desc=\"\" enabled=\"true\" focusable=\"false\" focused=\"false\" index=\"0\" long-clickable=\"false\" package=\"com.ecloudinfo.hulizhushou\" password=\"false\" resource-id=\"\" scrollable=\"false\" selected=\"false\" text=\"\">\n",
       "<node bounds=\"[82,347][346,460]\" checkable=\"false\" checked=\"false\" class=\"android.view.View\" clickable=\"false\" content-desc=\"\" enabled=\"true\" focusable=\"false\" focused=\"false\" index=\"0\" long-clickable=\"false\" package=\"com.ecloudinfo.hulizhushou\" password=\"false\" resource-id=\"\" scrollable=\"false\" selected=\"false\" text=\"积分\"></node>\n",
       "<node bounds=\"[343,347][704,460]\" checkable=\"false\" checked=\"false\" class=\"android.view.View\" clickable=\"false\" content-desc=\"\" enabled=\"true\" focusable=\"false\" focused=\"false\" index=\"1\" long-clickable=\"false\" package=\"com.ecloudinfo.hulizhushou\" password=\"false\" resource-id=\"\" scrollable=\"false\" selected=\"false\" text=\"正确率\"></node>\n",
       "<node bounds=\"[701,347][998,460]\" checkable=\"false\" checked=\"false\" class=\"android.view.View\" clickable=\"false\" content-desc=\"\" enabled=\"true\" focusable=\"false\" focused=\"false\" index=\"2\" long-clickable=\"false\" package=\"com.ecloudinfo.hulizhushou\" password=\"false\" resource-id=\"\" scrollable=\"false\" selected=\"false\" text=\"进度\"></node>\n",
       "</node>\n",
       "<node bounds=\"[82,457][998,573]\" checkable=\"false\" checked=\"false\" class=\"android.view.View\" clickable=\"false\" content-desc=\"\" enabled=\"true\" focusable=\"false\" focused=\"false\" index=\"1\" long-clickable=\"false\" package=\"com.ecloudinfo.hulizhushou\" password=\"false\" resource-id=\"\" scrollable=\"false\" selected=\"false\" text=\"\">\n",
       "<node bounds=\"[82,457][346,573]\" checkable=\"false\" checked=\"false\" class=\"android.view.View\" clickable=\"false\" content-desc=\"\" enabled=\"true\" focusable=\"false\" focused=\"false\" index=\"0\" long-clickable=\"false\" package=\"com.ecloudinfo.hulizhushou\" password=\"false\" resource-id=\"\" scrollable=\"false\" selected=\"false\" text=\"20\"></node>\n",
       "<node bounds=\"[343,457][704,573]\" checkable=\"false\" checked=\"false\" class=\"android.view.View\" clickable=\"false\" content-desc=\"\" enabled=\"true\" focusable=\"false\" focused=\"false\" index=\"1\" long-clickable=\"false\" package=\"com.ecloudinfo.hulizhushou\" password=\"false\" resource-id=\"\" scrollable=\"false\" selected=\"false\" text=\"50%\"></node>\n",
       "<node bounds=\"[701,457][998,573]\" checkable=\"false\" checked=\"false\" class=\"android.view.View\" clickable=\"false\" content-desc=\"\" enabled=\"true\" focusable=\"false\" focused=\"false\" index=\"2\" long-clickable=\"false\" package=\"com.ecloudinfo.hulizhushou\" password=\"false\" resource-id=\"\" scrollable=\"false\" selected=\"false\" text=\"2.7%\"></node>\n",
       "</node>\n",
       "</node>\n",
       "<node bounds=\"[0,597][1080,669]\" checkable=\"false\" checked=\"false\" class=\"android.view.View\" clickable=\"false\" content-desc=\"\" enabled=\"true\" focusable=\"false\" focused=\"false\" index=\"1\" long-clickable=\"false\" package=\"com.ecloudinfo.hulizhushou\" password=\"false\" resource-id=\"\" scrollable=\"false\" selected=\"false\" text=\"\">\n",
       "<node bounds=\"[217,600][418,666]\" checkable=\"false\" checked=\"false\" class=\"android.view.View\" clickable=\"false\" content-desc=\"\" enabled=\"true\" focusable=\"false\" focused=\"false\" index=\"0\" long-clickable=\"false\" package=\"com.ecloudinfo.hulizhushou\" password=\"false\" resource-id=\"\" scrollable=\"false\" selected=\"false\" text=\"剩余时间: \"></node>\n",
       "<node bounds=\"[415,600][863,666]\" checkable=\"false\" checked=\"false\" class=\"android.view.View\" clickable=\"false\" content-desc=\"\" enabled=\"true\" focusable=\"false\" focused=\"false\" index=\"1\" long-clickable=\"false\" package=\"com.ecloudinfo.hulizhushou\" password=\"false\" resource-id=\"remain_time\" scrollable=\"false\" selected=\"false\" text=\"80天 18小时 48分 51秒\"></node>\n",
       "</node>\n",
       "<node bounds=\"[0,666][1080,740]\" checkable=\"false\" checked=\"false\" class=\"android.view.View\" clickable=\"false\" content-desc=\"\" enabled=\"true\" focusable=\"false\" focused=\"false\" index=\"2\" long-clickable=\"false\" package=\"com.ecloudinfo.hulizhushou\" password=\"false\" resource-id=\"\" scrollable=\"false\" selected=\"false\" text=\"学分: 院级学分 2.0\"></node>\n",
       "<node bounds=\"[0,738][1080,2029]\" checkable=\"false\" checked=\"false\" class=\"android.view.View\" clickable=\"false\" content-desc=\"\" enabled=\"true\" focusable=\"false\" focused=\"false\" index=\"3\" long-clickable=\"false\" package=\"com.ecloudinfo.hulizhushou\" password=\"false\" resource-id=\"\" scrollable=\"false\" selected=\"false\" text=\"\n",
       "\"></node>\n",
       "<node bounds=\"[0,806][1080,867]\" checkable=\"false\" checked=\"false\" class=\"android.view.View\" clickable=\"false\" content-desc=\"\" enabled=\"true\" focusable=\"false\" focused=\"false\" index=\"4\" long-clickable=\"false\" package=\"com.ecloudinfo.hulizhushou\" password=\"false\" resource-id=\"\" scrollable=\"false\" selected=\"false\" text=\"做完题后若积分未刷新请\"></node>\n",
       "<node bounds=\"[0,864][1080,922]\" checkable=\"false\" checked=\"false\" class=\"android.view.View\" clickable=\"false\" content-desc=\"\" enabled=\"true\" focusable=\"false\" focused=\"false\" index=\"5\" long-clickable=\"false\" package=\"com.ecloudinfo.hulizhushou\" password=\"false\" resource-id=\"\" scrollable=\"false\" selected=\"false\" text=\"点击右上角的刷新按钮\"></node>\n",
       "<node bounds=\"[0,919][1080,2029]\" checkable=\"false\" checked=\"false\" class=\"android.view.View\" clickable=\"false\" content-desc=\"\" enabled=\"true\" focusable=\"false\" focused=\"false\" index=\"6\" long-clickable=\"false\" package=\"com.ecloudinfo.hulizhushou\" password=\"false\" resource-id=\"\" scrollable=\"false\" selected=\"false\" text=\"\n",
       "\"></node>\n",
       "<node bounds=\"[0,991][1080,1062]\" checkable=\"false\" checked=\"false\" class=\"android.view.View\" clickable=\"false\" content-desc=\"\" enabled=\"true\" focusable=\"false\" focused=\"false\" index=\"7\" long-clickable=\"false\" package=\"com.ecloudinfo.hulizhushou\" password=\"false\" resource-id=\"\" scrollable=\"false\" selected=\"false\" text=\"上报错题填写文字不少于5个！否则将提交失败。\"></node>\n",
       "<node bounds=\"[55,1059][1028,1092]\" checkable=\"false\" checked=\"false\" class=\"android.view.View\" clickable=\"false\" content-desc=\"\" enabled=\"true\" focusable=\"false\" focused=\"false\" index=\"8\" long-clickable=\"false\" package=\"com.ecloudinfo.hulizhushou\" password=\"false\" resource-id=\"\" scrollable=\"false\" selected=\"false\" text=\"\"></node>\n",
       "<node bounds=\"[55,1117][1028,1180]\" checkable=\"false\" checked=\"false\" class=\"android.view.View\" clickable=\"false\" content-desc=\"\" enabled=\"true\" focusable=\"false\" focused=\"false\" index=\"9\" long-clickable=\"false\" package=\"com.ecloudinfo.hulizhushou\" password=\"false\" resource-id=\"\" scrollable=\"false\" selected=\"false\" text=\"练习题出题规则：\"></node>\n",
       "<node bounds=\"[55,1178][1028,1304]\" checkable=\"false\" checked=\"false\" class=\"android.view.View\" clickable=\"false\" content-desc=\"\" enabled=\"true\" focusable=\"false\" focused=\"false\" index=\"10\" long-clickable=\"false\" package=\"com.ecloudinfo.hulizhushou\" password=\"false\" resource-id=\"\" scrollable=\"false\" selected=\"false\" text=\"1.练习题10-15题左右为一组，完成一组题目加相应积分，每组积分数=每组题数\"></node>\n",
       "<node bounds=\"[55,1299][1028,1425]\" checkable=\"false\" checked=\"false\" class=\"android.view.View\" clickable=\"false\" content-desc=\"\" enabled=\"true\" focusable=\"false\" focused=\"false\" index=\"11\" long-clickable=\"false\" package=\"com.ecloudinfo.hulizhushou\" password=\"false\" resource-id=\"\" scrollable=\"false\" selected=\"false\" text=\"2.当进度达到100%时还可以继续练习，进度将不会再增加。\"></node>\n",
       "<node bounds=\"[55,1422][1028,1486]\" checkable=\"false\" checked=\"false\" class=\"android.view.View\" clickable=\"false\" content-desc=\"\" enabled=\"true\" focusable=\"false\" focused=\"false\" index=\"12\" long-clickable=\"false\" package=\"com.ecloudinfo.hulizhushou\" password=\"false\" resource-id=\"\" scrollable=\"false\" selected=\"false\" text=\"怎样算完成一组练习题？\"></node>\n",
       "<node bounds=\"[55,1483][1028,1607]\" checkable=\"false\" checked=\"false\" class=\"android.view.View\" clickable=\"false\" content-desc=\"\" enabled=\"true\" focusable=\"false\" focused=\"false\" index=\"13\" long-clickable=\"false\" package=\"com.ecloudinfo.hulizhushou\" password=\"false\" resource-id=\"\" scrollable=\"false\" selected=\"false\" text=\"1.每组练习题中，做错的题目会在本组中重复出现，直到做对为止；做对的题则不会在本组中再次出现。\"></node>\n",
       "<node bounds=\"[55,1604][1028,1670]\" checkable=\"false\" checked=\"false\" class=\"android.view.View\" clickable=\"false\" content-desc=\"\" enabled=\"true\" focusable=\"false\" focused=\"false\" index=\"14\" long-clickable=\"false\" package=\"com.ecloudinfo.hulizhushou\" password=\"false\" resource-id=\"\" scrollable=\"false\" selected=\"false\" text=\"2.直到一组练习题全部做对，即视为完成一组练习。\"></node>\n",
       "<node bounds=\"[55,1664][1028,1730]\" checkable=\"false\" checked=\"false\" class=\"android.view.View\" clickable=\"false\" content-desc=\"\" enabled=\"true\" focusable=\"false\" focused=\"false\" index=\"15\" long-clickable=\"false\" package=\"com.ecloudinfo.hulizhushou\" password=\"false\" resource-id=\"\" scrollable=\"false\" selected=\"false\" text=\"做错的题如何加入错题集的？\"></node>\n",
       "<node bounds=\"[55,1728][1028,1851]\" checkable=\"false\" checked=\"false\" class=\"android.view.View\" clickable=\"false\" content-desc=\"\" enabled=\"true\" focusable=\"false\" focused=\"false\" index=\"16\" long-clickable=\"false\" package=\"com.ecloudinfo.hulizhushou\" password=\"false\" resource-id=\"\" scrollable=\"false\" selected=\"false\" text=\"1.在做练习题时，一道题做错的次数≥做对次数时，本题会自动加入到错题集里面。\"></node>\n",
       "<node bounds=\"[55,1849][1028,1975]\" checkable=\"false\" checked=\"false\" class=\"android.view.View\" clickable=\"false\" content-desc=\"\" enabled=\"true\" focusable=\"false\" focused=\"false\" index=\"17\" long-clickable=\"false\" package=\"com.ecloudinfo.hulizhushou\" password=\"false\" resource-id=\"\" scrollable=\"false\" selected=\"false\" text=\"2.当做错的次数＜做对次数时，本题将不在错题集里面显示。\"></node>\n",
       "</node>\n",
       "<node bounds=\"[0,1950][1080,2029]\" checkable=\"false\" checked=\"false\" class=\"android.view.View\" clickable=\"false\" content-desc=\"\" enabled=\"true\" focusable=\"false\" focused=\"false\" index=\"2\" long-clickable=\"false\" package=\"com.ecloudinfo.hulizhushou\" password=\"false\" resource-id=\"\" scrollable=\"false\" selected=\"false\" text=\"\">\n",
       "<node bounds=\"[0,1950][1080,2029]\" checkable=\"false\" checked=\"false\" class=\"android.view.View\" clickable=\"true\" content-desc=\"\" enabled=\"true\" focusable=\"true\" focused=\"false\" index=\"0\" long-clickable=\"false\" package=\"com.ecloudinfo.hulizhushou\" password=\"false\" resource-id=\"\" scrollable=\"false\" selected=\"false\" text=\"开始练习\"></node>\n",
       "</node>\n",
       "</node>\n",
       "</node>\n",
       "</node>\n",
       "<node bounds=\"[0,0][1080,2029]\" checkable=\"false\" checked=\"false\" class=\"android.widget.FrameLayout\" clickable=\"false\" content-desc=\"\" enabled=\"true\" focusable=\"false\" focused=\"false\" index=\"0\" long-clickable=\"false\" package=\"com.miui.home\" password=\"false\" resource-id=\"\" scrollable=\"false\" selected=\"false\" text=\"\">\n",
       "<node bounds=\"[0,0][1080,2029]\" checkable=\"false\" checked=\"false\" class=\"com.miui.home.launcher.ScreenView\" clickable=\"false\" content-desc=\"\" enabled=\"true\" focusable=\"false\" focused=\"false\" index=\"3\" long-clickable=\"false\" package=\"com.miui.home\" password=\"false\" resource-id=\"com.miui.home:id/workspace\" scrollable=\"true\" selected=\"false\" text=\"\"></node>\n",
       "<node bounds=\"[85,2045][994,2166]\" checkable=\"false\" checked=\"false\" class=\"android.widget.RelativeLayout\" clickable=\"true\" content-desc=\"搜索框\" enabled=\"true\" focusable=\"true\" focused=\"false\" index=\"8\" long-clickable=\"true\" package=\"com.miui.home\" password=\"false\" resource-id=\"com.miui.home:id/search_bar\" scrollable=\"false\" selected=\"false\" text=\"\">\n",
       "<node bounds=\"[840,2045][994,2166]\" checkable=\"false\" checked=\"false\" class=\"android.widget.FrameLayout\" clickable=\"true\" content-desc=\"小爱同学\" enabled=\"true\" focusable=\"true\" focused=\"false\" index=\"0\" long-clickable=\"false\" package=\"com.miui.home\" password=\"false\" resource-id=\"com.miui.home:id/xiaoai_layout\" scrollable=\"false\" selected=\"false\" text=\"\"></node>\n",
       "</node>\n",
       "</node>\n",
       "</hierarchy></body></html>"
      ]
     },
     "execution_count": 16,
     "metadata": {},
     "output_type": "execute_result"
    }
   ],
   "source": []
  },
  {
   "cell_type": "code",
   "execution_count": null,
   "metadata": {
    "collapsed": true
   },
   "outputs": [],
   "source": []
  }
 ],
 "metadata": {
  "kernelspec": {
   "display_name": "Python 3",
   "language": "python",
   "name": "python3"
  },
  "language_info": {
   "codemirror_mode": {
    "name": "ipython",
    "version": 3
   },
   "file_extension": ".py",
   "mimetype": "text/x-python",
   "name": "python",
   "nbconvert_exporter": "python",
   "pygments_lexer": "ipython3",
   "version": "3.7.4"
  }
 },
 "nbformat": 4,
 "nbformat_minor": 2
}
