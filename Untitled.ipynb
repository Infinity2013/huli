{
 "cells": [
  {
   "cell_type": "code",
   "execution_count": 1,
   "metadata": {
    "collapsed": true
   },
   "outputs": [],
   "source": [
    "from uiautomator import Device\n",
    "import BeautifulSoup\n",
    "import re\n",
    "import operator\n",
    "import sqlite3\n",
    "import hashlib\n",
    "import time"
   ]
  },
  {
   "cell_type": "code",
   "execution_count": 2,
   "metadata": {
    "collapsed": true
   },
   "outputs": [],
   "source": [
    "d = Device()"
   ]
  },
  {
   "cell_type": "code",
   "execution_count": null,
   "metadata": {
    "collapsed": true
   },
   "outputs": [],
   "source": []
  },
  {
   "cell_type": "code",
   "execution_count": 3,
   "metadata": {
    "collapsed": true
   },
   "outputs": [],
   "source": [
    "def getPos(tag):\n",
    "    bounds = tag.get('bounds')\n",
    "    bounds = map(int, re.findall(r'\\d+', bounds))\n",
    "    posX = (bounds[0] + bounds[2]) / 2\n",
    "    posY = (bounds[1] + bounds[3]) / 2\n",
    "    return posX, posY\n",
    "    "
   ]
  },
  {
   "cell_type": "code",
   "execution_count": 4,
   "metadata": {
    "collapsed": true
   },
   "outputs": [],
   "source": [
    "def findKeyTag(bs):\n",
    "    nodes = bs.findAll('node')\n",
    "    tagList = []\n",
    "    for node in nodes:\n",
    "        if isinstance(node, BeautifulSoup.Tag) and node.get('text') != '':\n",
    "            tagList.append([node, getPos(node)[1]])\n",
    "    tagList = sorted(tagList, key=operator.itemgetter(1))\n",
    "    title, confirm, ans, report, analysis = None, None, None, None, None\n",
    "    \n",
    "    for i in range(len(tagList)):\n",
    "        tagItem = tagList[i]\n",
    "        tag = tagItem[0]\n",
    "        tagText = getText(tag)\n",
    "        #print tagText\n",
    "        if u'选题' in tagText:\n",
    "            if not title:\n",
    "                title = i\n",
    "        elif u'正确答案' in tagText:\n",
    "            if not ans:\n",
    "                ans = i\n",
    "        elif u'下一题' in tagText or u'确  定' in tagText or u'提  交' in tagText:\n",
    "            if not confirm:\n",
    "                confirm = i\n",
    "        elif u'报错' in tagText:\n",
    "            report = i\n",
    "            break\n",
    "        elif u'答案解析' in tagText:\n",
    "            if not analysis:\n",
    "                analysis = i + 1\n",
    "    optionList = []\n",
    "    #print tagList[report]\n",
    "    for i in range(title + 1, ans if ans is not None else confirm):\n",
    "        g = re.match(r'\\d+\\.$', getText(tagList[i][0]))\n",
    "        if g is not None:\n",
    "            continue\n",
    "        optionList.append(tagList[i][0])\n",
    "    return tagList[title][0], optionList, None if ans is None else tagList[ans][0], tagList[confirm][0], None if analysis is None else tagList[analysis][0]\n",
    "        \n",
    "def getText(tag):\n",
    "    return tag.get('text').replace('\"', '#')\n",
    "\n",
    "def getY(tag):\n",
    "    g = re.findall('\\d+', tag.get('bounds'))\n",
    "    g = map(int, g)\n",
    "    return (g[1] + g[3]) / 2"
   ]
  },
  {
   "cell_type": "code",
   "execution_count": 5,
   "metadata": {
    "collapsed": true,
    "scrolled": true
   },
   "outputs": [],
   "source": [
    "def genHash(title, options):\n",
    "    textList = []\n",
    "    textList.append(getText(title))\n",
    "    for option in options:\n",
    "        textList.append(getText(option))\n",
    "    text = \",\".join(textList).encode('raw_unicode_escape')\n",
    "    textHash = hashlib.md5(text).hexdigest()\n",
    "    return textHash\n",
    "def parseAns(options, ans):\n",
    "    g = re.findall('\\w', getText(ans))\n",
    "    right = g[0]\n",
    "    index = ord(right) - ord('A')\n",
    "    return getText(options[index])\n",
    "    \n",
    "    \n",
    "    "
   ]
  },
  {
   "cell_type": "code",
   "execution_count": 6,
   "metadata": {
    "collapsed": true
   },
   "outputs": [],
   "source": [
    "def dumpPage(d):\n",
    "    src = d.dump('a.xml')\n",
    "    return BeautifulSoup.BeautifulSoup(src)"
   ]
  },
  {
   "cell_type": "code",
   "execution_count": 7,
   "metadata": {
    "collapsed": true
   },
   "outputs": [],
   "source": [
    "def click(tag, d):\n",
    "    bounds = tag.get('bounds')\n",
    "    bounds = map(int, re.findall(r'\\d+', bounds))\n",
    "    posX = (bounds[0] + bounds[2]) / 2\n",
    "    posY = (bounds[1] + bounds[3]) / 2\n",
    "    d.click(posX, posY)\n",
    "\n",
    "def checkExit(d):\n",
    "    bs = dumpPage(d)\n",
    "    confirm = None\n",
    "    isExit = False\n",
    "    for node in bs.findAll('node'):\n",
    "        if u'确 定' in getText(node):\n",
    "            confirm = node\n",
    "            isExit = True\n",
    "            break\n",
    "    if isExit:\n",
    "        click(confirm, d)\n",
    "    return isExit\n",
    "\n",
    "def clickEntry(d, name):\n",
    "    bs = dumpPage(d)\n",
    "    entry = None\n",
    "    for node in bs.findAll('node'):\n",
    "        if name in getText(node) or name in node.get('content-desc'):\n",
    "            entry = node\n",
    "            break\n",
    "    print entry\n",
    "    click(entry, d)\n",
    "    \n",
    "def waitForEntry(d, name):\n",
    "    entry = None\n",
    "    while entry is None:\n",
    "        bs = dumpPage(d)\n",
    "        for node in bs.findAll('node'):\n",
    "            if name in getText(node) or name in node.get('content-desc'):\n",
    "                entry = node\n",
    "                break\n",
    "        if entry is None:\n",
    "            time.sleep(2)\n",
    "    \n",
    "    "
   ]
  },
  {
   "cell_type": "code",
   "execution_count": 8,
   "metadata": {
    "collapsed": true
   },
   "outputs": [],
   "source": [
    "def crawler(d):\n",
    "    bs = dumpPage(d)\n",
    "    title, options, _, confirm, _ = findKeyTag(bs)\n",
    "    queryHash = genHash(title, options)\n",
    "    queryCmd = 'select * from n4n5 where hash=\"%s\"' % queryHash\n",
    "    localCursor = cursor.execute(queryCmd)\n",
    "    res = localCursor.fetchone()\n",
    "    if res is None:\n",
    "        time.sleep(1)\n",
    "        click(options[0], d)\n",
    "        time.sleep(1)\n",
    "        click(confirm, d)\n",
    "    else:\n",
    "        rightText = res[-2]\n",
    "        for option in options:\n",
    "            if rightText == getText(option):\n",
    "                click(option, d)\n",
    "                break\n",
    "        time.sleep(1)\n",
    "        click(confirm, d)\n",
    "\n",
    "    bs = dumpPage(d)\n",
    "    title, options, ans, confirm, analysis = findKeyTag(bs)\n",
    "    titleText = getText(title)\n",
    "    ansText = parseAns(options, ans)\n",
    "    optionText = \"|\".join([getText(option) for option in options])\n",
    "    analysisText = u'这SB没解析' if analysis is None else getText(analysis)\n",
    "    insertCmd = 'insert or ignore into n4n5(hash, title, options, ans, analysis) values(\"%s\", \"%s\", \"%s\", \"%s\", \"%s\")' % (queryHash, titleText, optionText, ansText, analysisText)\n",
    "    cursor.execute(insertCmd)\n",
    "\n",
    "    db.commit()\n",
    "    click(confirm, d)"
   ]
  },
  {
   "cell_type": "code",
   "execution_count": 9,
   "metadata": {},
   "outputs": [
    {
     "data": {
      "text/plain": [
       "<sqlite3.Cursor at 0x103d36260>"
      ]
     },
     "execution_count": 9,
     "metadata": {},
     "output_type": "execute_result"
    }
   ],
   "source": [
    "db = sqlite3.connect('nurse-asistant.db')\n",
    "cursor = db.cursor()\n",
    "cursor.execute('create table if not exists n4n5(hash varchar[255] primary key, title varchar[255], options varchar[255], ans varchar[255], analysis text)')"
   ]
  },
  {
   "cell_type": "code",
   "execution_count": 12,
   "metadata": {},
   "outputs": [
    {
     "ename": "KeyboardInterrupt",
     "evalue": "",
     "output_type": "error",
     "traceback": [
      "\u001b[0;31m---------------------------------------------------------------------------\u001b[0m",
      "\u001b[0;31mKeyboardInterrupt\u001b[0m                         Traceback (most recent call last)",
      "\u001b[0;32m<ipython-input-12-3d76cb1e0976>\u001b[0m in \u001b[0;36m<module>\u001b[0;34m()\u001b[0m\n\u001b[1;32m      8\u001b[0m             \u001b[0mwaitForEntry\u001b[0m\u001b[0;34m(\u001b[0m\u001b[0md\u001b[0m\u001b[0;34m,\u001b[0m \u001b[0;34mu'单选题'\u001b[0m\u001b[0;34m)\u001b[0m\u001b[0;34m\u001b[0m\u001b[0m\n\u001b[1;32m      9\u001b[0m             \u001b[0mtime\u001b[0m\u001b[0;34m.\u001b[0m\u001b[0msleep\u001b[0m\u001b[0;34m(\u001b[0m\u001b[0;36m2\u001b[0m\u001b[0;34m)\u001b[0m\u001b[0;34m\u001b[0m\u001b[0m\n\u001b[0;32m---> 10\u001b[0;31m     \u001b[0mcrawler\u001b[0m\u001b[0;34m(\u001b[0m\u001b[0md\u001b[0m\u001b[0;34m)\u001b[0m\u001b[0;34m\u001b[0m\u001b[0m\n\u001b[0m",
      "\u001b[0;32m<ipython-input-8-d5a4b754e645>\u001b[0m in \u001b[0;36mcrawler\u001b[0;34m(d)\u001b[0m\n\u001b[1;32m     17\u001b[0m                 \u001b[0mclick\u001b[0m\u001b[0;34m(\u001b[0m\u001b[0moption\u001b[0m\u001b[0;34m,\u001b[0m \u001b[0md\u001b[0m\u001b[0;34m)\u001b[0m\u001b[0;34m\u001b[0m\u001b[0m\n\u001b[1;32m     18\u001b[0m                 \u001b[0;32mbreak\u001b[0m\u001b[0;34m\u001b[0m\u001b[0m\n\u001b[0;32m---> 19\u001b[0;31m         \u001b[0mtime\u001b[0m\u001b[0;34m.\u001b[0m\u001b[0msleep\u001b[0m\u001b[0;34m(\u001b[0m\u001b[0;36m1\u001b[0m\u001b[0;34m)\u001b[0m\u001b[0;34m\u001b[0m\u001b[0m\n\u001b[0m\u001b[1;32m     20\u001b[0m         \u001b[0mclick\u001b[0m\u001b[0;34m(\u001b[0m\u001b[0mconfirm\u001b[0m\u001b[0;34m,\u001b[0m \u001b[0md\u001b[0m\u001b[0;34m)\u001b[0m\u001b[0;34m\u001b[0m\u001b[0m\n\u001b[1;32m     21\u001b[0m \u001b[0;34m\u001b[0m\u001b[0m\n",
      "\u001b[0;31mKeyboardInterrupt\u001b[0m: "
     ]
    }
   ],
   "source": [
    "while True:\n",
    "    res = checkExit(d)\n",
    "    if res:\n",
    "        waitForEntry(d, u'开始练习')\n",
    "        d.click(424, 2348)\n",
    "        #clickEntry(d, u'开始练习')\n",
    "        for i in range(2):\n",
    "            waitForEntry(d, u'单选题')\n",
    "            time.sleep(2)\n",
    "    crawler(d)"
   ]
  },
  {
   "cell_type": "code",
   "execution_count": 118,
   "metadata": {
    "collapsed": true
   },
   "outputs": [],
   "source": [
    "bs = dumpPage(d)"
   ]
  },
  {
   "cell_type": "code",
   "execution_count": 123,
   "metadata": {
    "collapsed": true
   },
   "outputs": [],
   "source": [
    "waitForEntry(d, u'开始练习')\n"
   ]
  },
  {
   "cell_type": "code",
   "execution_count": 130,
   "metadata": {},
   "outputs": [
    {
     "name": "stdout",
     "output_type": "stream",
     "text": [
      "<node index=\"11\" text=\"\" resource-id=\"\" class=\"android.view.View\" package=\"com.ecloudinfo.hulizhushou\" content-desc=\"开始练习\" checkable=\"false\" checked=\"false\" clickable=\"true\" enabled=\"true\" focusable=\"true\" focused=\"false\" scrollable=\"false\" long-clickable=\"false\" password=\"false\" selected=\"false\" bounds=\"[0,1296][824,1404]\">\n",
      "</node>\n"
     ]
    }
   ],
   "source": [
    "name = u'开始练习'\n",
    "bs = dumpPage(d)\n",
    "entry = None\n",
    "for node in bs.findAll('node'):\n",
    "    if name in getText(node) or name in node.get('content-desc'):\n",
    "        entry = node\n",
    "        break\n",
    "print entry\n",
    "\n"
   ]
  },
  {
   "cell_type": "code",
   "execution_count": 138,
   "metadata": {},
   "outputs": [
    {
     "data": {
      "text/plain": [
       "True"
      ]
     },
     "execution_count": 138,
     "metadata": {},
     "output_type": "execute_result"
    }
   ],
   "source": []
  },
  {
   "cell_type": "code",
   "execution_count": null,
   "metadata": {
    "collapsed": true
   },
   "outputs": [],
   "source": []
  }
 ],
 "metadata": {
  "kernelspec": {
   "display_name": "Python 2",
   "language": "python",
   "name": "python2"
  },
  "language_info": {
   "codemirror_mode": {
    "name": "ipython",
    "version": 2
   },
   "file_extension": ".py",
   "mimetype": "text/x-python",
   "name": "python",
   "nbconvert_exporter": "python",
   "pygments_lexer": "ipython2",
   "version": "2.7.13"
  }
 },
 "nbformat": 4,
 "nbformat_minor": 2
}
