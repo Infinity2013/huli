{
 "cells": [
  {
   "cell_type": "code",
   "execution_count": 1,
   "metadata": {},
   "outputs": [],
   "source": [
    "import pandas as pd\n",
    "import sqlite3"
   ]
  },
  {
   "cell_type": "code",
   "execution_count": 2,
   "metadata": {},
   "outputs": [],
   "source": [
    "db = sqlite3.connect('nurse-asistant.db')"
   ]
  },
  {
   "cell_type": "code",
   "execution_count": 3,
   "metadata": {},
   "outputs": [],
   "source": [
    "df = pd.read_sql('select * from n4n5', db)"
   ]
  },
  {
   "cell_type": "code",
   "execution_count": 4,
   "metadata": {},
   "outputs": [
    {
     "data": {
      "text/plain": [
       "(2215, 5)"
      ]
     },
     "execution_count": 4,
     "metadata": {},
     "output_type": "execute_result"
    }
   ],
   "source": [
    "df.shape"
   ]
  },
  {
   "cell_type": "code",
   "execution_count": 5,
   "metadata": {},
   "outputs": [
    {
     "data": {
      "text/html": [
       "<div>\n",
       "<style>\n",
       "    .dataframe thead tr:only-child th {\n",
       "        text-align: right;\n",
       "    }\n",
       "\n",
       "    .dataframe thead th {\n",
       "        text-align: left;\n",
       "    }\n",
       "\n",
       "    .dataframe tbody tr th {\n",
       "        vertical-align: top;\n",
       "    }\n",
       "</style>\n",
       "<table border=\"1\" class=\"dataframe\">\n",
       "  <thead>\n",
       "    <tr style=\"text-align: right;\">\n",
       "      <th></th>\n",
       "      <th>hash</th>\n",
       "      <th>title</th>\n",
       "      <th>options</th>\n",
       "      <th>ans</th>\n",
       "      <th>analysis</th>\n",
       "    </tr>\n",
       "  </thead>\n",
       "  <tbody>\n",
       "    <tr>\n",
       "      <th>0</th>\n",
       "      <td>0c1c26bba78c7712439dcd1fc259f5d0</td>\n",
       "      <td>单选题    下列哪项是增加右心室后负荷的疾病</td>\n",
       "      <td>肺动脉瓣狭窄|主动脉瓣狭窄|二尖瓣狭窄|三尖瓣反流|高血压</td>\n",
       "      <td>肺动脉瓣狭窄</td>\n",
       "      <td>肺动脉瓣狭窄时，右心室血液进入肺动脉阻力增大，即增加了右心室后负荷。</td>\n",
       "    </tr>\n",
       "    <tr>\n",
       "      <th>1</th>\n",
       "      <td>c055ee677e6aafbd82a58fc088356835</td>\n",
       "      <td>单选题    患者女，62岁。退休工程师，因心前区压榨样疼痛，伴冷汗、恐惧来院急诊，该患者最...</td>\n",
       "      <td>心电图检查|心脏超声检查|血液常规检查|肝功能检查|尿常规检查</td>\n",
       "      <td>心电图检查</td>\n",
       "      <td>患者突发心前区压榨样疼痛，首先考虑冠状动脉粥样硬化性心脏病。需立即行心电图检查，根据特异性的...</td>\n",
       "    </tr>\n",
       "    <tr>\n",
       "      <th>2</th>\n",
       "      <td>0d95ebf6c34bc22abd0dbf1090d8b880</td>\n",
       "      <td>单选题    宫颈锥形切除术的病理组织固定液是</td>\n",
       "      <td>0.5%碘伏|75%乙醇|10%甲醛|10%乙醛|5%丙醛</td>\n",
       "      <td>10%甲醛</td>\n",
       "      <td>宫颈锥切术的病理组织固定液是10%甲醛或95%乙醇。</td>\n",
       "    </tr>\n",
       "    <tr>\n",
       "      <th>3</th>\n",
       "      <td>59ab633f2ec93f6407b9129b83a2e2dd</td>\n",
       "      <td>单选题    女性，75岁，有高血压病史30年，在进行家务活动时，突觉头晕，随即倒地，急送医...</td>\n",
       "      <td>脑梗死|脑出血|心源性休克|急性心肌梗死|肾衰竭</td>\n",
       "      <td>脑出血</td>\n",
       "      <td>头颅CT检查：临床疑诊脑出血时首选CT检查，可显示圆形或卵圆形均匀高密度血肿，发病后即可显示...</td>\n",
       "    </tr>\n",
       "    <tr>\n",
       "      <th>4</th>\n",
       "      <td>d8e55091a82ba511f74b7518c7f8c1f2</td>\n",
       "      <td>单选题    分娩时因产钳助产致新生儿头颅血肿，护士采取的正确措施是</td>\n",
       "      <td>教会家属按摩血肿促进吸收|血肿大、发展快、给予热敷|血肿大、发展快、给予冷敷|细针穿刺抽吸血...</td>\n",
       "      <td>血肿大、发展快、给予冷敷</td>\n",
       "      <td>新生儿头颅血肿处理为血肿大、发展快、给予冷敷。使用止血药，不要按摩血肿，不要穿刺抽吸血肿。</td>\n",
       "    </tr>\n",
       "  </tbody>\n",
       "</table>\n",
       "</div>"
      ],
      "text/plain": [
       "                               hash  \\\n",
       "0  0c1c26bba78c7712439dcd1fc259f5d0   \n",
       "1  c055ee677e6aafbd82a58fc088356835   \n",
       "2  0d95ebf6c34bc22abd0dbf1090d8b880   \n",
       "3  59ab633f2ec93f6407b9129b83a2e2dd   \n",
       "4  d8e55091a82ba511f74b7518c7f8c1f2   \n",
       "\n",
       "                                               title  \\\n",
       "0                            单选题    下列哪项是增加右心室后负荷的疾病   \n",
       "1  单选题    患者女，62岁。退休工程师，因心前区压榨样疼痛，伴冷汗、恐惧来院急诊，该患者最...   \n",
       "2                            单选题    宫颈锥形切除术的病理组织固定液是   \n",
       "3  单选题    女性，75岁，有高血压病史30年，在进行家务活动时，突觉头晕，随即倒地，急送医...   \n",
       "4                 单选题    分娩时因产钳助产致新生儿头颅血肿，护士采取的正确措施是   \n",
       "\n",
       "                                             options           ans  \\\n",
       "0                      肺动脉瓣狭窄|主动脉瓣狭窄|二尖瓣狭窄|三尖瓣反流|高血压        肺动脉瓣狭窄   \n",
       "1                    心电图检查|心脏超声检查|血液常规检查|肝功能检查|尿常规检查         心电图检查   \n",
       "2                      0.5%碘伏|75%乙醇|10%甲醛|10%乙醛|5%丙醛         10%甲醛   \n",
       "3                           脑梗死|脑出血|心源性休克|急性心肌梗死|肾衰竭           脑出血   \n",
       "4  教会家属按摩血肿促进吸收|血肿大、发展快、给予热敷|血肿大、发展快、给予冷敷|细针穿刺抽吸血...  血肿大、发展快、给予冷敷   \n",
       "\n",
       "                                            analysis  \n",
       "0                 肺动脉瓣狭窄时，右心室血液进入肺动脉阻力增大，即增加了右心室后负荷。  \n",
       "1  患者突发心前区压榨样疼痛，首先考虑冠状动脉粥样硬化性心脏病。需立即行心电图检查，根据特异性的...  \n",
       "2                         宫颈锥切术的病理组织固定液是10%甲醛或95%乙醇。  \n",
       "3  头颅CT检查：临床疑诊脑出血时首选CT检查，可显示圆形或卵圆形均匀高密度血肿，发病后即可显示...  \n",
       "4      新生儿头颅血肿处理为血肿大、发展快、给予冷敷。使用止血药，不要按摩血肿，不要穿刺抽吸血肿。  "
      ]
     },
     "execution_count": 5,
     "metadata": {},
     "output_type": "execute_result"
    }
   ],
   "source": [
    "df.head()"
   ]
  },
  {
   "cell_type": "code",
   "execution_count": 38,
   "metadata": {},
   "outputs": [],
   "source": [
    "def decodeQuote(s):\n",
    "    return s.replace('#', '\"')\n",
    "\n",
    "with open('total.txt', 'w') as f:\n",
    "    question_idx = 1\n",
    "    for index in df.index:\n",
    "        res = df.iloc[index]\n",
    "        title = '%d. %s\\n' % (question_idx, decodeQuote(res.title))\n",
    "        f.write(title.encode('utf8'))\n",
    "        options = decodeQuote(res['options']).split(\"|\")\n",
    "        prefix = ''\n",
    "        option_idx = 0\n",
    "        for i in range(len(options)):\n",
    "            option = options[i]\n",
    "            if option == decodeQuote(res['ans']):\n",
    "                preffix = '*' * 4\n",
    "            else:\n",
    "                preffix = ' ' * 4\n",
    "            line = '%s%s.%s' % (preffix, chr(ord('A') + option_idx), option)\n",
    "            option_idx +=1\n",
    "            f.write(line.encode('utf8'))\n",
    "            f.write('\\n')\n",
    "        #line = u'分析: %s\\n' % decodeQuote(res['analysis'])\n",
    "        f.write(line.encode('utf8'))\n",
    "        question_idx +=1 \n",
    "        f.write('\\n')\n",
    "        \n",
    "                       \n",
    "    "
   ]
  },
  {
   "cell_type": "code",
   "execution_count": 23,
   "metadata": {
    "collapsed": true
   },
   "outputs": [],
   "source": [
    "oldDB = sqlite3.connect('old.db')\n",
    "n1 = pd.read_sql('select * from n1n3', oldDB)\n",
    "n4n5 = pd.read_sql('select * from n4n5', oldDB)\n",
    "n6 = pd.read_sql('select * from n6', oldDB)"
   ]
  },
  {
   "cell_type": "code",
   "execution_count": 24,
   "metadata": {},
   "outputs": [
    {
     "data": {
      "text/plain": [
       "(519, 4)"
      ]
     },
     "execution_count": 24,
     "metadata": {},
     "output_type": "execute_result"
    }
   ],
   "source": [
    "n1.shape"
   ]
  },
  {
   "cell_type": "code",
   "execution_count": 25,
   "metadata": {},
   "outputs": [
    {
     "data": {
      "text/plain": [
       "(554, 4)"
      ]
     },
     "execution_count": 25,
     "metadata": {},
     "output_type": "execute_result"
    }
   ],
   "source": [
    "n4n5.shape"
   ]
  },
  {
   "cell_type": "code",
   "execution_count": 26,
   "metadata": {},
   "outputs": [
    {
     "data": {
      "text/plain": [
       "(419, 4)"
      ]
     },
     "execution_count": 26,
     "metadata": {},
     "output_type": "execute_result"
    }
   ],
   "source": [
    "n6.shape"
   ]
  },
  {
   "cell_type": "code",
   "execution_count": 27,
   "metadata": {},
   "outputs": [
    {
     "data": {
      "text/html": [
       "<div>\n",
       "<style>\n",
       "    .dataframe thead tr:only-child th {\n",
       "        text-align: right;\n",
       "    }\n",
       "\n",
       "    .dataframe thead th {\n",
       "        text-align: left;\n",
       "    }\n",
       "\n",
       "    .dataframe tbody tr th {\n",
       "        vertical-align: top;\n",
       "    }\n",
       "</style>\n",
       "<table border=\"1\" class=\"dataframe\">\n",
       "  <thead>\n",
       "    <tr style=\"text-align: right;\">\n",
       "      <th></th>\n",
       "      <th>hash</th>\n",
       "      <th>title</th>\n",
       "      <th>options</th>\n",
       "      <th>ans</th>\n",
       "    </tr>\n",
       "  </thead>\n",
       "  <tbody>\n",
       "    <tr>\n",
       "      <th>0</th>\n",
       "      <td>6ebdbcea1caf1f33bc137b0472305922</td>\n",
       "      <td>单选题  下列哪项是指胎膜早破</td>\n",
       "      <td>胎膜在临产前破裂|胎膜在潜伏期破裂|胎膜破裂发生在活跃期|胎膜破裂发生在第一产程末|胎膜破裂...</td>\n",
       "      <td>胎膜在临产前破裂</td>\n",
       "    </tr>\n",
       "    <tr>\n",
       "      <th>1</th>\n",
       "      <td>fb9863c768f2bd31d5fcf23324cb43c1</td>\n",
       "      <td>单选题  患者，男，27岁，鼻唇沟处有一疖，表现为红肿热痛，前来就诊，护士嘱其禁忌局部用热，...</td>\n",
       "      <td>加重局部疼痛|加重局部功能障碍|掩盖病情|出血|引起颅内感染</td>\n",
       "      <td>引起颅内感染</td>\n",
       "    </tr>\n",
       "    <tr>\n",
       "      <th>2</th>\n",
       "      <td>6d7f3656a6439ace798fc068851af297</td>\n",
       "      <td>单选题  下列哪项是死亡率最高的疾病</td>\n",
       "      <td>妊娠期高血压疾病|羊水栓塞|产后出血|产褥感染|妊娠合并心脏病</td>\n",
       "      <td>羊水栓塞</td>\n",
       "    </tr>\n",
       "    <tr>\n",
       "      <th>3</th>\n",
       "      <td>00460fdfe5dbd7d34980c0c66d47bac3</td>\n",
       "      <td>单选题  泌尿男性生殖系统中，发病率最高的恶性肿瘤是</td>\n",
       "      <td>肾癌|前列腺癌|输尿管癌|肾上腺皮质癌|膀胱癌</td>\n",
       "      <td>膀胱癌</td>\n",
       "    </tr>\n",
       "    <tr>\n",
       "      <th>4</th>\n",
       "      <td>7a0b59756d42772223cf3240b54f0ffe</td>\n",
       "      <td>单选题  于女士.31岁。停经50天后，下腹部隐痛半月余，其后阴道少量出血5天，右侧附件触及...</td>\n",
       "      <td>子宫肌瘤|卵巢囊肿|子宫内膜异位症|陈旧性宫外孕|妊娠黄体</td>\n",
       "      <td>陈旧性宫外孕</td>\n",
       "    </tr>\n",
       "  </tbody>\n",
       "</table>\n",
       "</div>"
      ],
      "text/plain": [
       "                               hash  \\\n",
       "0  6ebdbcea1caf1f33bc137b0472305922   \n",
       "1  fb9863c768f2bd31d5fcf23324cb43c1   \n",
       "2  6d7f3656a6439ace798fc068851af297   \n",
       "3  00460fdfe5dbd7d34980c0c66d47bac3   \n",
       "4  7a0b59756d42772223cf3240b54f0ffe   \n",
       "\n",
       "                                               title  \\\n",
       "0                                    单选题  下列哪项是指胎膜早破   \n",
       "1  单选题  患者，男，27岁，鼻唇沟处有一疖，表现为红肿热痛，前来就诊，护士嘱其禁忌局部用热，...   \n",
       "2                                 单选题  下列哪项是死亡率最高的疾病   \n",
       "3                         单选题  泌尿男性生殖系统中，发病率最高的恶性肿瘤是   \n",
       "4  单选题  于女士.31岁。停经50天后，下腹部隐痛半月余，其后阴道少量出血5天，右侧附件触及...   \n",
       "\n",
       "                                             options       ans  \n",
       "0  胎膜在临产前破裂|胎膜在潜伏期破裂|胎膜破裂发生在活跃期|胎膜破裂发生在第一产程末|胎膜破裂...  胎膜在临产前破裂  \n",
       "1                     加重局部疼痛|加重局部功能障碍|掩盖病情|出血|引起颅内感染    引起颅内感染  \n",
       "2                    妊娠期高血压疾病|羊水栓塞|产后出血|产褥感染|妊娠合并心脏病      羊水栓塞  \n",
       "3                            肾癌|前列腺癌|输尿管癌|肾上腺皮质癌|膀胱癌       膀胱癌  \n",
       "4                      子宫肌瘤|卵巢囊肿|子宫内膜异位症|陈旧性宫外孕|妊娠黄体    陈旧性宫外孕  "
      ]
     },
     "execution_count": 27,
     "metadata": {},
     "output_type": "execute_result"
    }
   ],
   "source": [
    "n1.head()"
   ]
  },
  {
   "cell_type": "code",
   "execution_count": 28,
   "metadata": {},
   "outputs": [
    {
     "data": {
      "text/html": [
       "<div>\n",
       "<style>\n",
       "    .dataframe thead tr:only-child th {\n",
       "        text-align: right;\n",
       "    }\n",
       "\n",
       "    .dataframe thead th {\n",
       "        text-align: left;\n",
       "    }\n",
       "\n",
       "    .dataframe tbody tr th {\n",
       "        vertical-align: top;\n",
       "    }\n",
       "</style>\n",
       "<table border=\"1\" class=\"dataframe\">\n",
       "  <thead>\n",
       "    <tr style=\"text-align: right;\">\n",
       "      <th></th>\n",
       "      <th>hash</th>\n",
       "      <th>title</th>\n",
       "      <th>options</th>\n",
       "      <th>ans</th>\n",
       "    </tr>\n",
       "  </thead>\n",
       "  <tbody>\n",
       "  </tbody>\n",
       "</table>\n",
       "</div>"
      ],
      "text/plain": [
       "Empty DataFrame\n",
       "Columns: [hash, title, options, ans]\n",
       "Index: []"
      ]
     },
     "execution_count": 28,
     "metadata": {},
     "output_type": "execute_result"
    }
   ],
   "source": [
    "n1.merge(n4n5)"
   ]
  },
  {
   "cell_type": "code",
   "execution_count": 29,
   "metadata": {},
   "outputs": [
    {
     "data": {
      "text/plain": [
       "(519, 4)"
      ]
     },
     "execution_count": 29,
     "metadata": {},
     "output_type": "execute_result"
    }
   ],
   "source": [
    "n1.shape"
   ]
  },
  {
   "cell_type": "code",
   "execution_count": 30,
   "metadata": {
    "collapsed": true
   },
   "outputs": [],
   "source": [
    "total = pd.concat([n1, n4n5, n6, df])"
   ]
  },
  {
   "cell_type": "code",
   "execution_count": 31,
   "metadata": {},
   "outputs": [
    {
     "data": {
      "text/plain": [
       "(2964, 5)"
      ]
     },
     "execution_count": 31,
     "metadata": {},
     "output_type": "execute_result"
    }
   ],
   "source": [
    "total.shape"
   ]
  },
  {
   "cell_type": "code",
   "execution_count": 32,
   "metadata": {
    "collapsed": true
   },
   "outputs": [],
   "source": [
    "df = total.drop_duplicates(subset=['title','options', 'ans'])"
   ]
  },
  {
   "cell_type": "code",
   "execution_count": 33,
   "metadata": {
    "collapsed": true
   },
   "outputs": [],
   "source": [
    "df.reset_index(drop=True, inplace=True)"
   ]
  },
  {
   "cell_type": "code",
   "execution_count": 36,
   "metadata": {},
   "outputs": [],
   "source": [
    "with open('total.txt', 'w') as f:\n",
    "    question_idx = 1\n",
    "    for index in df.index:\n",
    "        res = df.iloc[index]\n",
    "        title = '%d. %s\\n' % (question_idx, decodeQuote(res.title))\n",
    "        f.write(title.encode('utf8'))\n",
    "        options = decodeQuote(res['options']).split(\"|\")\n",
    "        prefix = ''\n",
    "        option_idx = 0\n",
    "        line = '    %s' % (decodeQuote(res['ans']))\n",
    "\n",
    "        f.write(line.encode('utf8'))\n",
    "        f.write('\\n')\n",
    "        question_idx +=1 "
   ]
  },
  {
   "cell_type": "code",
   "execution_count": null,
   "metadata": {
    "collapsed": true
   },
   "outputs": [],
   "source": []
  }
 ],
 "metadata": {
  "kernelspec": {
   "display_name": "Python 3",
   "language": "python",
   "name": "python3"
  },
  "language_info": {
   "codemirror_mode": {
    "name": "ipython",
    "version": 3
   },
   "file_extension": ".py",
   "mimetype": "text/x-python",
   "name": "python",
   "nbconvert_exporter": "python",
   "pygments_lexer": "ipython3",
   "version": "3.7.3"
  }
 },
 "nbformat": 4,
 "nbformat_minor": 2
}
